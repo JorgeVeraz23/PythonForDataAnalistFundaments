{
 "cells": [
  {
   "cell_type": "code",
   "execution_count": 1,
   "id": "e4d6eac0",
   "metadata": {},
   "outputs": [],
   "source": [
    "import numpy as np"
   ]
  },
  {
   "cell_type": "code",
   "execution_count": 3,
   "id": "98e9f4e3",
   "metadata": {},
   "outputs": [
    {
     "name": "stdout",
     "output_type": "stream",
     "text": [
      "Arreglo 1D [1 2 3 4 5 6]\n",
      "Forma(shape):  (6,)\n",
      "Tipos de datos (dtype) int64\n"
     ]
    }
   ],
   "source": [
    "# Crear arreglo de 1 dimension con 5 elementos\n",
    "arr1 = np.array([1,2,3,4,5, 6])\n",
    "\n",
    "print('Arreglo 1D', arr1)\n",
    "print('Forma(shape): ', arr1.shape)\n",
    "print('Tipos de datos (dtype)', arr1.dtype)"
   ]
  },
  {
   "cell_type": "code",
   "execution_count": 4,
   "id": "c7cf82fa",
   "metadata": {},
   "outputs": [
    {
     "name": "stdout",
     "output_type": "stream",
     "text": [
      "Arreglo 2D [[1 2 3]\n",
      " [4 5 6]]\n",
      "Forma(shape);  (2, 3)\n",
      "Tipo de datos (dtype) int64\n"
     ]
    }
   ],
   "source": [
    "# Cambiar la forma del arreglo a una matriz 2 * 3\n",
    "arr2 = arr1.reshape((2,3))\n",
    "print('Arreglo 2D', arr2)\n",
    "print('Forma(shape); ',arr2.shape)\n",
    "print('Tipo de datos (dtype)', arr2.dtype)"
   ]
  },
  {
   "cell_type": "code",
   "execution_count": 5,
   "id": "995b0974",
   "metadata": {},
   "outputs": [
    {
     "name": "stdout",
     "output_type": "stream",
     "text": [
      "Arreglo 2D [[0.74396843 0.43208394 0.0774242  0.99338013]\n",
      " [0.77467407 0.96155985 0.26040674 0.45108572]\n",
      " [0.12578425 0.51873086 0.81158993 0.07908021]\n",
      " [0.36760704 0.46059767 0.67438698 0.7538988 ]]\n",
      "Forma(shape);  (4, 4)\n",
      "Tipo de datos (dtype) float64\n"
     ]
    }
   ],
   "source": [
    "# Crear una matriz con forma (4,4) con numeros aleatorios entre 0 y 1\n",
    "matrix = np.random.rand(4,4)\n",
    "print('Arreglo 2D', matrix)\n",
    "print('Forma(shape); ',matrix.shape)\n",
    "print('Tipo de datos (dtype)', matrix.dtype)"
   ]
  },
  {
   "cell_type": "code",
   "execution_count": null,
   "id": "70b3b8c5",
   "metadata": {},
   "outputs": [
    {
     "name": "stdout",
     "output_type": "stream",
     "text": [
      "[[1 2 3]\n",
      " [4 5 6]\n",
      " [7 8 9]]\n"
     ]
    }
   ],
   "source": [
    "# Crear un arreglo de 2 dimensiones a partir de una lista de listas\n",
    "arr = np.array([[1,2,3],[4,5,6],[7,8,9]])\n",
    "print(arr, type(arr))"
   ]
  },
  {
   "cell_type": "code",
   "execution_count": 7,
   "id": "5f4bcd0e",
   "metadata": {},
   "outputs": [
    {
     "name": "stdout",
     "output_type": "stream",
     "text": [
      "[[0. 0. 0. 0.]\n",
      " [0. 0. 0. 0.]\n",
      " [0. 0. 0. 0.]]\n"
     ]
    }
   ],
   "source": [
    "# Crear un arreglo de ceros con una forma (3,4)\n",
    "arr = np.zeros((3,4))\n",
    "print(arr)"
   ]
  },
  {
   "cell_type": "code",
   "execution_count": 8,
   "id": "30cfd5ba",
   "metadata": {},
   "outputs": [
    {
     "data": {
      "text/plain": [
       "array([[1., 1.],\n",
       "       [1., 1.]])"
      ]
     },
     "execution_count": 8,
     "metadata": {},
     "output_type": "execute_result"
    }
   ],
   "source": [
    "# Crear un arreglo con unos con una forma (2,2)\n",
    "arr = np.ones((2,2))\n",
    "arr"
   ]
  },
  {
   "cell_type": "code",
   "execution_count": 9,
   "id": "ef5f0279",
   "metadata": {},
   "outputs": [
    {
     "name": "stdout",
     "output_type": "stream",
     "text": [
      "[[1. 0. 0. 0.]\n",
      " [0. 1. 0. 0.]\n",
      " [0. 0. 1. 0.]\n",
      " [0. 0. 0. 1.]]\n"
     ]
    }
   ],
   "source": [
    "# Crear una matriz identidad\n",
    "arr = np.eye(4)\n",
    "print(arr)"
   ]
  },
  {
   "cell_type": "code",
   "execution_count": 11,
   "id": "65d5e54b",
   "metadata": {},
   "outputs": [
    {
     "data": {
      "text/plain": [
       "array([[[0., 0., 0., 0.],\n",
       "        [0., 0., 5., 0.],\n",
       "        [0., 0., 0., 0.]],\n",
       "\n",
       "       [[0., 0., 0., 0.],\n",
       "        [0., 0., 0., 0.],\n",
       "        [0., 0., 0., 0.]]])"
      ]
     },
     "execution_count": 11,
     "metadata": {},
     "output_type": "execute_result"
    }
   ],
   "source": [
    "# Crear un arreglo 3d de ceros con forma (2,3,4)\n",
    "arr = np.zeros((2,3,4))\n",
    "arr[0,1,2] = 5\n",
    "arr"
   ]
  },
  {
   "cell_type": "code",
   "execution_count": 13,
   "id": "84a721db",
   "metadata": {},
   "outputs": [
    {
     "data": {
      "text/plain": [
       "array([[0.72419985, 0.40514866, 0.76082853, 0.80819598, 0.18193251],\n",
       "       [0.36504198, 0.85328938, 0.0667576 , 0.59476763, 0.84028324]])"
      ]
     },
     "execution_count": 13,
     "metadata": {},
     "output_type": "execute_result"
    }
   ],
   "source": [
    "# Crear un arreglo 3D que se genere aleatoriamente con 2 filas y 5 columnas\n",
    "arr = np.random.rand(2,5)\n",
    "arr"
   ]
  },
  {
   "cell_type": "code",
   "execution_count": 14,
   "id": "8867187d",
   "metadata": {},
   "outputs": [
    {
     "data": {
      "text/plain": [
       "array([[0.72419985, 0.36504198],\n",
       "       [0.40514866, 0.85328938],\n",
       "       [0.76082853, 0.0667576 ],\n",
       "       [0.80819598, 0.59476763],\n",
       "       [0.18193251, 0.84028324]])"
      ]
     },
     "execution_count": 14,
     "metadata": {},
     "output_type": "execute_result"
    }
   ],
   "source": [
    "arr.T"
   ]
  },
  {
   "cell_type": "code",
   "execution_count": 15,
   "id": "0b536e8c",
   "metadata": {},
   "outputs": [
    {
     "data": {
      "text/plain": [
       "(array([[1, 2],\n",
       "        [3, 4]]),\n",
       " array([[5, 6],\n",
       "        [7, 8]]))"
      ]
     },
     "execution_count": 15,
     "metadata": {},
     "output_type": "execute_result"
    }
   ],
   "source": [
    " arr1 = np.array([[1,2], [3,4]])\n",
    " arr2 = np.array([[5,6], [7,8]])\n",
    " arr1, arr2"
   ]
  },
  {
   "cell_type": "code",
   "execution_count": 16,
   "id": "2ff254a1",
   "metadata": {},
   "outputs": [
    {
     "data": {
      "text/plain": [
       "array([[1, 2, 5, 6],\n",
       "       [3, 4, 7, 8]])"
      ]
     },
     "execution_count": 16,
     "metadata": {},
     "output_type": "execute_result"
    }
   ],
   "source": [
    "# Concatenar arreglos horizontalmente\n",
    "arr_h = np.hstack((arr1, arr2))\n",
    "arr_h"
   ]
  },
  {
   "cell_type": "code",
   "execution_count": 17,
   "id": "eb7ad5fa",
   "metadata": {},
   "outputs": [
    {
     "data": {
      "text/plain": [
       "array([[[1, 2],\n",
       "        [3, 4]],\n",
       "\n",
       "       [[5, 6],\n",
       "        [7, 8]]])"
      ]
     },
     "execution_count": 17,
     "metadata": {},
     "output_type": "execute_result"
    }
   ],
   "source": [
    "# Concatenar arreglos verticalmente\n",
    "arr_v = np.stack((arr1, arr2))\n",
    "arr_v"
   ]
  }
 ],
 "metadata": {
  "kernelspec": {
   "display_name": "Python 3",
   "language": "python",
   "name": "python3"
  },
  "language_info": {
   "codemirror_mode": {
    "name": "ipython",
    "version": 3
   },
   "file_extension": ".py",
   "mimetype": "text/x-python",
   "name": "python",
   "nbconvert_exporter": "python",
   "pygments_lexer": "ipython3",
   "version": "undefined.undefined.undefined"
  }
 },
 "nbformat": 4,
 "nbformat_minor": 5
}
