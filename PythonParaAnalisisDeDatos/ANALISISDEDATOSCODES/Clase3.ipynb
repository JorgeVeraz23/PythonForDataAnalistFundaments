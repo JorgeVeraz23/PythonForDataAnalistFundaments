{
 "cells": [
  {
   "cell_type": "code",
   "execution_count": 1,
   "id": "e4d6eac0",
   "metadata": {},
   "outputs": [],
   "source": [
    "import numpy as np"
   ]
  },
  {
   "cell_type": "code",
   "execution_count": 3,
   "id": "98e9f4e3",
   "metadata": {},
   "outputs": [
    {
     "name": "stdout",
     "output_type": "stream",
     "text": [
      "Arreglo 1D [1 2 3 4 5 6]\n",
      "Forma(shape):  (6,)\n",
      "Tipos de datos (dtype) int64\n"
     ]
    }
   ],
   "source": [
    "# Crear arreglo de 1 dimension con 5 elementos\n",
    "arr1 = np.array([1,2,3,4,5, 6])\n",
    "\n",
    "print('Arreglo 1D', arr1)\n",
    "print('Forma(shape): ', arr1.shape)\n",
    "print('Tipos de datos (dtype)', arr1.dtype)"
   ]
  },
  {
   "cell_type": "code",
   "execution_count": 4,
   "id": "c7cf82fa",
   "metadata": {},
   "outputs": [
    {
     "name": "stdout",
     "output_type": "stream",
     "text": [
      "Arreglo 2D [[1 2 3]\n",
      " [4 5 6]]\n",
      "Forma(shape);  (2, 3)\n",
      "Tipo de datos (dtype) int64\n"
     ]
    }
   ],
   "source": [
    "# Cambiar la forma del arreglo a una matriz 2 * 3\n",
    "arr2 = arr1.reshape((2,3))\n",
    "print('Arreglo 2D', arr2)\n",
    "print('Forma(shape); ',arr2.shape)\n",
    "print('Tipo de datos (dtype)', arr2.dtype)"
   ]
  },
  {
   "cell_type": "code",
   "execution_count": 5,
   "id": "995b0974",
   "metadata": {},
   "outputs": [
    {
     "name": "stdout",
     "output_type": "stream",
     "text": [
      "Arreglo 2D [[0.74396843 0.43208394 0.0774242  0.99338013]\n",
      " [0.77467407 0.96155985 0.26040674 0.45108572]\n",
      " [0.12578425 0.51873086 0.81158993 0.07908021]\n",
      " [0.36760704 0.46059767 0.67438698 0.7538988 ]]\n",
      "Forma(shape);  (4, 4)\n",
      "Tipo de datos (dtype) float64\n"
     ]
    }
   ],
   "source": [
    "# Crear una matriz con forma (4,4) con numeros aleatorios entre 0 y 1\n",
    "matrix = np.random.rand(4,4)\n",
    "print('Arreglo 2D', matrix)\n",
    "print('Forma(shape); ',matrix.shape)\n",
    "print('Tipo de datos (dtype)', matrix.dtype)"
   ]
  }
 ],
 "metadata": {
  "kernelspec": {
   "display_name": "Python 3",
   "language": "python",
   "name": "python3"
  },
  "language_info": {
   "codemirror_mode": {
    "name": "ipython",
    "version": 3
   },
   "file_extension": ".py",
   "mimetype": "text/x-python",
   "name": "python",
   "nbconvert_exporter": "python",
   "pygments_lexer": "ipython3",
   "version": "3.13.2"
  }
 },
 "nbformat": 4,
 "nbformat_minor": 5
}
